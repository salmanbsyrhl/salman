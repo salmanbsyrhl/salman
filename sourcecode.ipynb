{
  "nbformat": 4,
  "nbformat_minor": 0,
  "metadata": {
    "colab": {
      "name": "sourcecode",
      "provenance": [],
      "collapsed_sections": []
    },
    "kernelspec": {
      "name": "python3",
      "display_name": "Python 3"
    },
    "language_info": {
      "name": "python"
    },
    "widgets": {
      "application/vnd.jupyter.widget-state+json": {
        "a58120975e074e90a6e7703b9f0a42f0": {
          "model_module": "@jupyter-widgets/controls",
          "model_name": "HBoxModel",
          "state": {
            "_view_name": "HBoxView",
            "_dom_classes": [],
            "_model_name": "HBoxModel",
            "_view_module": "@jupyter-widgets/controls",
            "_model_module_version": "1.5.0",
            "_view_count": null,
            "_view_module_version": "1.5.0",
            "box_style": "",
            "layout": "IPY_MODEL_169bd251cac948cb9b92d6be982af32e",
            "_model_module": "@jupyter-widgets/controls",
            "children": [
              "IPY_MODEL_921545be0018454ca4bcfc832c4245e6",
              "IPY_MODEL_0724a14e19bd4283baea026bd61fbe7a"
            ]
          }
        },
        "169bd251cac948cb9b92d6be982af32e": {
          "model_module": "@jupyter-widgets/base",
          "model_name": "LayoutModel",
          "state": {
            "_view_name": "LayoutView",
            "grid_template_rows": null,
            "right": null,
            "justify_content": null,
            "_view_module": "@jupyter-widgets/base",
            "overflow": null,
            "_model_module_version": "1.2.0",
            "_view_count": null,
            "flex_flow": null,
            "width": null,
            "min_width": null,
            "border": null,
            "align_items": null,
            "bottom": null,
            "_model_module": "@jupyter-widgets/base",
            "top": null,
            "grid_column": null,
            "overflow_y": null,
            "overflow_x": null,
            "grid_auto_flow": null,
            "grid_area": null,
            "grid_template_columns": null,
            "flex": null,
            "_model_name": "LayoutModel",
            "justify_items": null,
            "grid_row": null,
            "max_height": null,
            "align_content": null,
            "visibility": null,
            "align_self": null,
            "height": null,
            "min_height": null,
            "padding": null,
            "grid_auto_rows": null,
            "grid_gap": null,
            "max_width": null,
            "order": null,
            "_view_module_version": "1.2.0",
            "grid_template_areas": null,
            "object_position": null,
            "object_fit": null,
            "grid_auto_columns": null,
            "margin": null,
            "display": null,
            "left": null
          }
        },
        "921545be0018454ca4bcfc832c4245e6": {
          "model_module": "@jupyter-widgets/controls",
          "model_name": "ButtonModel",
          "state": {
            "_view_name": "ButtonView",
            "style": "IPY_MODEL_a07a5dbedba24e2bb287772a1a9b1dbb",
            "_dom_classes": [],
            "description": "0",
            "_model_name": "ButtonModel",
            "button_style": "",
            "_view_module": "@jupyter-widgets/controls",
            "_model_module_version": "1.5.0",
            "tooltip": "",
            "_view_count": null,
            "disabled": false,
            "_view_module_version": "1.5.0",
            "layout": "IPY_MODEL_d571542b39b64f15b23e696a07d761dd",
            "_model_module": "@jupyter-widgets/controls",
            "icon": ""
          }
        },
        "0724a14e19bd4283baea026bd61fbe7a": {
          "model_module": "@jupyter-widgets/controls",
          "model_name": "ButtonModel",
          "state": {
            "_view_name": "ButtonView",
            "style": "IPY_MODEL_bc51ee0df9fb4b4db5028d2287b82435",
            "_dom_classes": [],
            "description": "1",
            "_model_name": "ButtonModel",
            "button_style": "",
            "_view_module": "@jupyter-widgets/controls",
            "_model_module_version": "1.5.0",
            "tooltip": "",
            "_view_count": null,
            "disabled": false,
            "_view_module_version": "1.5.0",
            "layout": "IPY_MODEL_2c9b3b431e6641968b4d8666bd38b6c9",
            "_model_module": "@jupyter-widgets/controls",
            "icon": ""
          }
        },
        "a07a5dbedba24e2bb287772a1a9b1dbb": {
          "model_module": "@jupyter-widgets/controls",
          "model_name": "ButtonStyleModel",
          "state": {
            "_view_name": "StyleView",
            "_model_name": "ButtonStyleModel",
            "_view_module": "@jupyter-widgets/base",
            "_model_module_version": "1.5.0",
            "_view_count": null,
            "button_color": null,
            "font_weight": "",
            "_view_module_version": "1.2.0",
            "_model_module": "@jupyter-widgets/controls"
          }
        },
        "d571542b39b64f15b23e696a07d761dd": {
          "model_module": "@jupyter-widgets/base",
          "model_name": "LayoutModel",
          "state": {
            "_view_name": "LayoutView",
            "grid_template_rows": null,
            "right": null,
            "justify_content": null,
            "_view_module": "@jupyter-widgets/base",
            "overflow": null,
            "_model_module_version": "1.2.0",
            "_view_count": null,
            "flex_flow": null,
            "width": null,
            "min_width": null,
            "border": null,
            "align_items": null,
            "bottom": null,
            "_model_module": "@jupyter-widgets/base",
            "top": null,
            "grid_column": null,
            "overflow_y": null,
            "overflow_x": null,
            "grid_auto_flow": null,
            "grid_area": null,
            "grid_template_columns": null,
            "flex": null,
            "_model_name": "LayoutModel",
            "justify_items": null,
            "grid_row": null,
            "max_height": null,
            "align_content": null,
            "visibility": null,
            "align_self": null,
            "height": null,
            "min_height": null,
            "padding": null,
            "grid_auto_rows": null,
            "grid_gap": null,
            "max_width": null,
            "order": null,
            "_view_module_version": "1.2.0",
            "grid_template_areas": null,
            "object_position": null,
            "object_fit": null,
            "grid_auto_columns": null,
            "margin": null,
            "display": null,
            "left": null
          }
        },
        "bc51ee0df9fb4b4db5028d2287b82435": {
          "model_module": "@jupyter-widgets/controls",
          "model_name": "ButtonStyleModel",
          "state": {
            "_view_name": "StyleView",
            "_model_name": "ButtonStyleModel",
            "_view_module": "@jupyter-widgets/base",
            "_model_module_version": "1.5.0",
            "_view_count": null,
            "button_color": null,
            "font_weight": "",
            "_view_module_version": "1.2.0",
            "_model_module": "@jupyter-widgets/controls"
          }
        },
        "2c9b3b431e6641968b4d8666bd38b6c9": {
          "model_module": "@jupyter-widgets/base",
          "model_name": "LayoutModel",
          "state": {
            "_view_name": "LayoutView",
            "grid_template_rows": null,
            "right": null,
            "justify_content": null,
            "_view_module": "@jupyter-widgets/base",
            "overflow": null,
            "_model_module_version": "1.2.0",
            "_view_count": null,
            "flex_flow": null,
            "width": null,
            "min_width": null,
            "border": null,
            "align_items": null,
            "bottom": null,
            "_model_module": "@jupyter-widgets/base",
            "top": null,
            "grid_column": null,
            "overflow_y": null,
            "overflow_x": null,
            "grid_auto_flow": null,
            "grid_area": null,
            "grid_template_columns": null,
            "flex": null,
            "_model_name": "LayoutModel",
            "justify_items": null,
            "grid_row": null,
            "max_height": null,
            "align_content": null,
            "visibility": null,
            "align_self": null,
            "height": null,
            "min_height": null,
            "padding": null,
            "grid_auto_rows": null,
            "grid_gap": null,
            "max_width": null,
            "order": null,
            "_view_module_version": "1.2.0",
            "grid_template_areas": null,
            "object_position": null,
            "object_fit": null,
            "grid_auto_columns": null,
            "margin": null,
            "display": null,
            "left": null
          }
        },
        "e969c3e7a0384bdd810b4c084ff45781": {
          "model_module": "@jupyter-widgets/controls",
          "model_name": "VBoxModel",
          "state": {
            "_view_name": "VBoxView",
            "_dom_classes": [],
            "_model_name": "VBoxModel",
            "_view_module": "@jupyter-widgets/controls",
            "_model_module_version": "1.5.0",
            "_view_count": null,
            "_view_module_version": "1.5.0",
            "box_style": "",
            "layout": "IPY_MODEL_2e61826506954f2b9a95f96062bb82d0",
            "_model_module": "@jupyter-widgets/controls",
            "children": [
              "IPY_MODEL_46140603969f4b40bc65c2a5854ad0b5",
              "IPY_MODEL_fe52e7d7a0944df68985a2e61b408e41"
            ]
          }
        },
        "2e61826506954f2b9a95f96062bb82d0": {
          "model_module": "@jupyter-widgets/base",
          "model_name": "LayoutModel",
          "state": {
            "_view_name": "LayoutView",
            "grid_template_rows": null,
            "right": null,
            "justify_content": null,
            "_view_module": "@jupyter-widgets/base",
            "overflow": null,
            "_model_module_version": "1.2.0",
            "_view_count": null,
            "flex_flow": null,
            "width": null,
            "min_width": null,
            "border": null,
            "align_items": null,
            "bottom": null,
            "_model_module": "@jupyter-widgets/base",
            "top": null,
            "grid_column": null,
            "overflow_y": null,
            "overflow_x": null,
            "grid_auto_flow": null,
            "grid_area": null,
            "grid_template_columns": null,
            "flex": null,
            "_model_name": "LayoutModel",
            "justify_items": null,
            "grid_row": null,
            "max_height": null,
            "align_content": null,
            "visibility": null,
            "align_self": null,
            "height": null,
            "min_height": null,
            "padding": null,
            "grid_auto_rows": null,
            "grid_gap": null,
            "max_width": null,
            "order": null,
            "_view_module_version": "1.2.0",
            "grid_template_areas": null,
            "object_position": null,
            "object_fit": null,
            "grid_auto_columns": null,
            "margin": null,
            "display": null,
            "left": null
          }
        },
        "46140603969f4b40bc65c2a5854ad0b5": {
          "model_module": "@jupyter-widgets/controls",
          "model_name": "IntProgressModel",
          "state": {
            "_view_name": "ProgressView",
            "style": "IPY_MODEL_e23d5797b17c43c9931aa63218b8c847",
            "_dom_classes": [],
            "description": "You:",
            "_model_name": "IntProgressModel",
            "bar_style": "success",
            "max": 30,
            "_view_module": "@jupyter-widgets/controls",
            "_model_module_version": "1.5.0",
            "value": 0,
            "_view_count": null,
            "_view_module_version": "1.5.0",
            "orientation": "horizontal",
            "min": 0,
            "description_tooltip": null,
            "_model_module": "@jupyter-widgets/controls",
            "layout": "IPY_MODEL_41750814d55d482aa75220a22a38a3a2"
          }
        },
        "fe52e7d7a0944df68985a2e61b408e41": {
          "model_module": "@jupyter-widgets/controls",
          "model_name": "IntProgressModel",
          "state": {
            "_view_name": "ProgressView",
            "style": "IPY_MODEL_961cfa9d0df24f83a271201d96346160",
            "_dom_classes": [],
            "description": "Bot:",
            "_model_name": "IntProgressModel",
            "bar_style": "danger",
            "max": 30,
            "_view_module": "@jupyter-widgets/controls",
            "_model_module_version": "1.5.0",
            "value": 0,
            "_view_count": null,
            "_view_module_version": "1.5.0",
            "orientation": "horizontal",
            "min": 0,
            "description_tooltip": null,
            "_model_module": "@jupyter-widgets/controls",
            "layout": "IPY_MODEL_6e6abfa3c8d3421892bd37a27da37281"
          }
        },
        "e23d5797b17c43c9931aa63218b8c847": {
          "model_module": "@jupyter-widgets/controls",
          "model_name": "ProgressStyleModel",
          "state": {
            "_view_name": "StyleView",
            "_model_name": "ProgressStyleModel",
            "description_width": "",
            "_view_module": "@jupyter-widgets/base",
            "_model_module_version": "1.5.0",
            "_view_count": null,
            "_view_module_version": "1.2.0",
            "bar_color": null,
            "_model_module": "@jupyter-widgets/controls"
          }
        },
        "41750814d55d482aa75220a22a38a3a2": {
          "model_module": "@jupyter-widgets/base",
          "model_name": "LayoutModel",
          "state": {
            "_view_name": "LayoutView",
            "grid_template_rows": null,
            "right": null,
            "justify_content": null,
            "_view_module": "@jupyter-widgets/base",
            "overflow": null,
            "_model_module_version": "1.2.0",
            "_view_count": null,
            "flex_flow": null,
            "width": null,
            "min_width": null,
            "border": null,
            "align_items": null,
            "bottom": null,
            "_model_module": "@jupyter-widgets/base",
            "top": null,
            "grid_column": null,
            "overflow_y": null,
            "overflow_x": null,
            "grid_auto_flow": null,
            "grid_area": null,
            "grid_template_columns": null,
            "flex": null,
            "_model_name": "LayoutModel",
            "justify_items": null,
            "grid_row": null,
            "max_height": null,
            "align_content": null,
            "visibility": null,
            "align_self": null,
            "height": null,
            "min_height": null,
            "padding": null,
            "grid_auto_rows": null,
            "grid_gap": null,
            "max_width": null,
            "order": null,
            "_view_module_version": "1.2.0",
            "grid_template_areas": null,
            "object_position": null,
            "object_fit": null,
            "grid_auto_columns": null,
            "margin": null,
            "display": null,
            "left": null
          }
        },
        "961cfa9d0df24f83a271201d96346160": {
          "model_module": "@jupyter-widgets/controls",
          "model_name": "ProgressStyleModel",
          "state": {
            "_view_name": "StyleView",
            "_model_name": "ProgressStyleModel",
            "description_width": "",
            "_view_module": "@jupyter-widgets/base",
            "_model_module_version": "1.5.0",
            "_view_count": null,
            "_view_module_version": "1.2.0",
            "bar_color": null,
            "_model_module": "@jupyter-widgets/controls"
          }
        },
        "6e6abfa3c8d3421892bd37a27da37281": {
          "model_module": "@jupyter-widgets/base",
          "model_name": "LayoutModel",
          "state": {
            "_view_name": "LayoutView",
            "grid_template_rows": null,
            "right": null,
            "justify_content": null,
            "_view_module": "@jupyter-widgets/base",
            "overflow": null,
            "_model_module_version": "1.2.0",
            "_view_count": null,
            "flex_flow": null,
            "width": null,
            "min_width": null,
            "border": null,
            "align_items": null,
            "bottom": null,
            "_model_module": "@jupyter-widgets/base",
            "top": null,
            "grid_column": null,
            "overflow_y": null,
            "overflow_x": null,
            "grid_auto_flow": null,
            "grid_area": null,
            "grid_template_columns": null,
            "flex": null,
            "_model_name": "LayoutModel",
            "justify_items": null,
            "grid_row": null,
            "max_height": null,
            "align_content": null,
            "visibility": null,
            "align_self": null,
            "height": null,
            "min_height": null,
            "padding": null,
            "grid_auto_rows": null,
            "grid_gap": null,
            "max_width": null,
            "order": null,
            "_view_module_version": "1.2.0",
            "grid_template_areas": null,
            "object_position": null,
            "object_fit": null,
            "grid_auto_columns": null,
            "margin": null,
            "display": null,
            "left": null
          }
        },
        "18e6ec6d84724b2184196fc3a921edb2": {
          "model_module": "@jupyter-widgets/controls",
          "model_name": "HTMLModel",
          "state": {
            "_view_name": "HTMLView",
            "style": "IPY_MODEL_4ce491da07ff42cb89136f62f421d7b0",
            "_dom_classes": [],
            "description": "",
            "_model_name": "HTMLModel",
            "placeholder": "​",
            "_view_module": "@jupyter-widgets/controls",
            "_model_module_version": "1.5.0",
            "value": "<h1 style='color:green'> You Win!</h1>",
            "_view_count": null,
            "_view_module_version": "1.5.0",
            "description_tooltip": null,
            "_model_module": "@jupyter-widgets/controls",
            "layout": "IPY_MODEL_8ac8825f5e02454d882499d7cac3302d"
          }
        },
        "4ce491da07ff42cb89136f62f421d7b0": {
          "model_module": "@jupyter-widgets/controls",
          "model_name": "DescriptionStyleModel",
          "state": {
            "_view_name": "StyleView",
            "_model_name": "DescriptionStyleModel",
            "description_width": "",
            "_view_module": "@jupyter-widgets/base",
            "_model_module_version": "1.5.0",
            "_view_count": null,
            "_view_module_version": "1.2.0",
            "_model_module": "@jupyter-widgets/controls"
          }
        },
        "8ac8825f5e02454d882499d7cac3302d": {
          "model_module": "@jupyter-widgets/base",
          "model_name": "LayoutModel",
          "state": {
            "_view_name": "LayoutView",
            "grid_template_rows": null,
            "right": null,
            "justify_content": null,
            "_view_module": "@jupyter-widgets/base",
            "overflow": null,
            "_model_module_version": "1.2.0",
            "_view_count": null,
            "flex_flow": null,
            "width": null,
            "min_width": null,
            "border": null,
            "align_items": null,
            "bottom": null,
            "_model_module": "@jupyter-widgets/base",
            "top": null,
            "grid_column": null,
            "overflow_y": null,
            "overflow_x": null,
            "grid_auto_flow": null,
            "grid_area": null,
            "grid_template_columns": null,
            "flex": null,
            "_model_name": "LayoutModel",
            "justify_items": null,
            "grid_row": null,
            "max_height": null,
            "align_content": null,
            "visibility": "hidden",
            "align_self": null,
            "height": null,
            "min_height": null,
            "padding": null,
            "grid_auto_rows": null,
            "grid_gap": null,
            "max_width": null,
            "order": null,
            "_view_module_version": "1.2.0",
            "grid_template_areas": null,
            "object_position": null,
            "object_fit": null,
            "grid_auto_columns": null,
            "margin": null,
            "display": null,
            "left": null
          }
        },
        "975b7e8ba1af4c658a7258af7f55298a": {
          "model_module": "@jupyter-widgets/controls",
          "model_name": "VBoxModel",
          "state": {
            "_view_name": "VBoxView",
            "_dom_classes": [],
            "_model_name": "VBoxModel",
            "_view_module": "@jupyter-widgets/controls",
            "_model_module_version": "1.5.0",
            "_view_count": null,
            "_view_module_version": "1.5.0",
            "box_style": "",
            "layout": "IPY_MODEL_50efde94594e4e77a7ce00371a5e7669",
            "_model_module": "@jupyter-widgets/controls",
            "children": [
              "IPY_MODEL_3e79ec5500cf4ae18c58382df108d1c5",
              "IPY_MODEL_a58120975e074e90a6e7703b9f0a42f0"
            ]
          }
        },
        "50efde94594e4e77a7ce00371a5e7669": {
          "model_module": "@jupyter-widgets/base",
          "model_name": "LayoutModel",
          "state": {
            "_view_name": "LayoutView",
            "grid_template_rows": null,
            "right": null,
            "justify_content": null,
            "_view_module": "@jupyter-widgets/base",
            "overflow": null,
            "_model_module_version": "1.2.0",
            "_view_count": null,
            "flex_flow": null,
            "width": null,
            "min_width": null,
            "border": null,
            "align_items": null,
            "bottom": null,
            "_model_module": "@jupyter-widgets/base",
            "top": null,
            "grid_column": null,
            "overflow_y": null,
            "overflow_x": null,
            "grid_auto_flow": null,
            "grid_area": null,
            "grid_template_columns": null,
            "flex": null,
            "_model_name": "LayoutModel",
            "justify_items": null,
            "grid_row": null,
            "max_height": null,
            "align_content": null,
            "visibility": null,
            "align_self": null,
            "height": null,
            "min_height": null,
            "padding": null,
            "grid_auto_rows": null,
            "grid_gap": null,
            "max_width": null,
            "order": null,
            "_view_module_version": "1.2.0",
            "grid_template_areas": null,
            "object_position": null,
            "object_fit": null,
            "grid_auto_columns": null,
            "margin": null,
            "display": null,
            "left": null
          }
        },
        "3e79ec5500cf4ae18c58382df108d1c5": {
          "model_module": "@jupyter-widgets/controls",
          "model_name": "HBoxModel",
          "state": {
            "_view_name": "HBoxView",
            "_dom_classes": [],
            "_model_name": "HBoxModel",
            "_view_module": "@jupyter-widgets/controls",
            "_model_module_version": "1.5.0",
            "_view_count": null,
            "_view_module_version": "1.5.0",
            "box_style": "",
            "layout": "IPY_MODEL_d0aaaae905d44d9598cd814907908160",
            "_model_module": "@jupyter-widgets/controls",
            "children": [
              "IPY_MODEL_e969c3e7a0384bdd810b4c084ff45781",
              "IPY_MODEL_18e6ec6d84724b2184196fc3a921edb2"
            ]
          }
        },
        "d0aaaae905d44d9598cd814907908160": {
          "model_module": "@jupyter-widgets/base",
          "model_name": "LayoutModel",
          "state": {
            "_view_name": "LayoutView",
            "grid_template_rows": null,
            "right": null,
            "justify_content": null,
            "_view_module": "@jupyter-widgets/base",
            "overflow": null,
            "_model_module_version": "1.2.0",
            "_view_count": null,
            "flex_flow": null,
            "width": null,
            "min_width": null,
            "border": null,
            "align_items": null,
            "bottom": null,
            "_model_module": "@jupyter-widgets/base",
            "top": null,
            "grid_column": null,
            "overflow_y": null,
            "overflow_x": null,
            "grid_auto_flow": null,
            "grid_area": null,
            "grid_template_columns": null,
            "flex": null,
            "_model_name": "LayoutModel",
            "justify_items": null,
            "grid_row": null,
            "max_height": null,
            "align_content": null,
            "visibility": null,
            "align_self": null,
            "height": null,
            "min_height": null,
            "padding": null,
            "grid_auto_rows": null,
            "grid_gap": null,
            "max_width": null,
            "order": null,
            "_view_module_version": "1.2.0",
            "grid_template_areas": null,
            "object_position": null,
            "object_fit": null,
            "grid_auto_columns": null,
            "margin": null,
            "display": null,
            "left": null
          }
        }
      }
    }
  },
  "cells": [
    {
      "cell_type": "code",
      "metadata": {
        "id": "rvYuqo0b76uW"
      },
      "source": [
        "from ipywidgets import *\n",
        "import numpy as np"
      ],
      "execution_count": 136,
      "outputs": []
    },
    {
      "cell_type": "code",
      "metadata": {
        "colab": {
          "base_uri": "https://localhost:8080/",
          "height": 49,
          "referenced_widgets": [
            "a58120975e074e90a6e7703b9f0a42f0",
            "169bd251cac948cb9b92d6be982af32e",
            "921545be0018454ca4bcfc832c4245e6",
            "0724a14e19bd4283baea026bd61fbe7a",
            "a07a5dbedba24e2bb287772a1a9b1dbb",
            "d571542b39b64f15b23e696a07d761dd",
            "bc51ee0df9fb4b4db5028d2287b82435",
            "2c9b3b431e6641968b4d8666bd38b6c9"
          ]
        },
        "id": "VzVjKXbk9EM-",
        "outputId": "c842ef2d-028c-4ebc-80e2-be3bf52aeca1"
      },
      "source": [
        "btn_zero = Button( description='0' )\n",
        "btn_one = Button( description='1' )\n",
        "btns = HBox( [btn_zero, btn_one] )\n",
        "btns"
      ],
      "execution_count": 137,
      "outputs": [
        {
          "output_type": "display_data",
          "data": {
            "application/vnd.jupyter.widget-view+json": {
              "model_id": "a58120975e074e90a6e7703b9f0a42f0",
              "version_minor": 0,
              "version_major": 2
            },
            "text/plain": [
              "HBox(children=(Button(description='0', style=ButtonStyle()), Button(description='1', style=ButtonStyle())))"
            ]
          },
          "metadata": {
            "tags": []
          }
        }
      ]
    },
    {
      "cell_type": "code",
      "metadata": {
        "colab": {
          "base_uri": "https://localhost:8080/",
          "height": 81,
          "referenced_widgets": [
            "e969c3e7a0384bdd810b4c084ff45781",
            "2e61826506954f2b9a95f96062bb82d0",
            "46140603969f4b40bc65c2a5854ad0b5",
            "fe52e7d7a0944df68985a2e61b408e41",
            "e23d5797b17c43c9931aa63218b8c847",
            "41750814d55d482aa75220a22a38a3a2",
            "961cfa9d0df24f83a271201d96346160",
            "6e6abfa3c8d3421892bd37a27da37281"
          ]
        },
        "id": "SS8AOUCK_ulR",
        "outputId": "fece189f-36fa-4148-9240-cbaaeaf067a9"
      },
      "source": [
        "usr_score = IntProgress( value=0, min=0, max=30, description='You:', bar_style='success')\n",
        "bot_score = IntProgress( value=0, min=0, max=30, description='Bot:', bar_style='danger')\n",
        "scoreboard = VBox( [usr_score, bot_score])\n",
        "scoreboard"
      ],
      "execution_count": 138,
      "outputs": [
        {
          "output_type": "display_data",
          "data": {
            "application/vnd.jupyter.widget-view+json": {
              "model_id": "e969c3e7a0384bdd810b4c084ff45781",
              "version_minor": 0,
              "version_major": 2
            },
            "text/plain": [
              "VBox(children=(IntProgress(value=0, bar_style='success', description='You:', max=30), IntProgress(value=0, bar…"
            ]
          },
          "metadata": {
            "tags": []
          }
        }
      ]
    },
    {
      "cell_type": "code",
      "metadata": {
        "colab": {
          "base_uri": "https://localhost:8080/",
          "height": 70,
          "referenced_widgets": [
            "18e6ec6d84724b2184196fc3a921edb2",
            "4ce491da07ff42cb89136f62f421d7b0",
            "8ac8825f5e02454d882499d7cac3302d"
          ]
        },
        "id": "Jo527keEBNRb",
        "outputId": "c9be9cfd-07e4-415c-ae10-118621c9564f"
      },
      "source": [
        "final_msg = HTML(\"<h1 style='color:green'> You Win!</h1>\")\n",
        "final_msg"
      ],
      "execution_count": 139,
      "outputs": [
        {
          "output_type": "display_data",
          "data": {
            "application/vnd.jupyter.widget-view+json": {
              "model_id": "18e6ec6d84724b2184196fc3a921edb2",
              "version_minor": 0,
              "version_major": 2
            },
            "text/plain": [
              "HTML(value=\"<h1 style='color:green'> You Win!</h1>\")"
            ]
          },
          "metadata": {
            "tags": []
          }
        }
      ]
    },
    {
      "cell_type": "code",
      "metadata": {
        "colab": {
          "base_uri": "https://localhost:8080/",
          "height": 113,
          "referenced_widgets": [
            "975b7e8ba1af4c658a7258af7f55298a",
            "50efde94594e4e77a7ce00371a5e7669",
            "3e79ec5500cf4ae18c58382df108d1c5",
            "a58120975e074e90a6e7703b9f0a42f0",
            "d0aaaae905d44d9598cd814907908160",
            "e969c3e7a0384bdd810b4c084ff45781",
            "18e6ec6d84724b2184196fc3a921edb2",
            "169bd251cac948cb9b92d6be982af32e",
            "921545be0018454ca4bcfc832c4245e6",
            "0724a14e19bd4283baea026bd61fbe7a",
            "2e61826506954f2b9a95f96062bb82d0",
            "46140603969f4b40bc65c2a5854ad0b5",
            "fe52e7d7a0944df68985a2e61b408e41",
            "4ce491da07ff42cb89136f62f421d7b0",
            "8ac8825f5e02454d882499d7cac3302d",
            "a07a5dbedba24e2bb287772a1a9b1dbb",
            "d571542b39b64f15b23e696a07d761dd",
            "bc51ee0df9fb4b4db5028d2287b82435",
            "2c9b3b431e6641968b4d8666bd38b6c9",
            "e23d5797b17c43c9931aa63218b8c847",
            "41750814d55d482aa75220a22a38a3a2",
            "961cfa9d0df24f83a271201d96346160",
            "6e6abfa3c8d3421892bd37a27da37281"
          ]
        },
        "id": "B8b9SsYGB1Eq",
        "outputId": "9ba4b2d5-c8cd-4854-c6dd-692ae8a2db6c"
      },
      "source": [
        "game_box = VBox([ HBox([scoreboard, final_msg]), btns ])\n",
        "game_box"
      ],
      "execution_count": 140,
      "outputs": [
        {
          "output_type": "display_data",
          "data": {
            "application/vnd.jupyter.widget-view+json": {
              "model_id": "975b7e8ba1af4c658a7258af7f55298a",
              "version_minor": 0,
              "version_major": 2
            },
            "text/plain": [
              "VBox(children=(HBox(children=(VBox(children=(IntProgress(value=0, bar_style='success', description='You:', max…"
            ]
          },
          "metadata": {
            "tags": []
          }
        }
      ]
    },
    {
      "cell_type": "code",
      "metadata": {
        "id": "9X1v73BYJAxA"
      },
      "source": [
        "final_msg.layout.visibility = 'hidden'"
      ],
      "execution_count": 141,
      "outputs": []
    },
    {
      "cell_type": "code",
      "metadata": {
        "id": "ZTcvOvXr-LGf"
      },
      "source": [
        "def click_zero(b):\n",
        "    update_game(0)\n",
        "btn_zero.on_click( click_zero )"
      ],
      "execution_count": 142,
      "outputs": []
    },
    {
      "cell_type": "code",
      "metadata": {
        "id": "Hplfpg5V-1uN"
      },
      "source": [
        "def click_one(b):\n",
        "    update_game(1)\n",
        "btn_one.on_click( click_one )"
      ],
      "execution_count": 143,
      "outputs": []
    },
    {
      "cell_type": "code",
      "metadata": {
        "id": "5qiTrix6_cuq"
      },
      "source": [
        "def update_game( usr_choice ):\n",
        "    prob = sum( usr_history ) / len( usr_history )\n",
        "    comp_choice = np.random.binomial(1, prob, 1)[0]\n",
        "    usr_history.append( usr_choice )\n",
        "\n",
        "    if comp_choice == usr_choice:\n",
        "        bot_score.value += 1\n",
        "    else:\n",
        "      usr_score.value += 1\n",
        "\n",
        "    if usr_score.value == 30 or bot_score.value == 30:\n",
        "        if bot_score.value == 30:\n",
        "            final_msg.value = \"<h1 style='color:red'> You Loose!</h1>\"\n",
        "        final_msg.layout.visibility = \"visible\"\n",
        "        btn_zero.disabled = True\n",
        "        btn_one.disabled = True\n",
        "\n",
        "    return"
      ],
      "execution_count": 144,
      "outputs": []
    },
    {
      "cell_type": "code",
      "metadata": {
        "id": "pUEuYsFiDZV1"
      },
      "source": [
        "usr_history = []"
      ],
      "execution_count": 145,
      "outputs": []
    },
    {
      "cell_type": "code",
      "metadata": {
        "id": "gOb5neuhDe2A"
      },
      "source": [
        "usr_history.append(1)"
      ],
      "execution_count": 146,
      "outputs": []
    },
    {
      "cell_type": "code",
      "metadata": {
        "id": "_5hyD_bWEHO2"
      },
      "source": [
        "usr_history.append(0)"
      ],
      "execution_count": 147,
      "outputs": []
    },
    {
      "cell_type": "code",
      "metadata": {
        "colab": {
          "base_uri": "https://localhost:8080/"
        },
        "id": "C-2vl9gKDm27",
        "outputId": "2736a816-f914-4fdc-9ecd-dad37d65524e"
      },
      "source": [
        "usr_history"
      ],
      "execution_count": 148,
      "outputs": [
        {
          "output_type": "execute_result",
          "data": {
            "text/plain": [
              "[1, 0]"
            ]
          },
          "metadata": {
            "tags": []
          },
          "execution_count": 148
        }
      ]
    },
    {
      "cell_type": "code",
      "metadata": {
        "colab": {
          "base_uri": "https://localhost:8080/"
        },
        "id": "apvuBVpiEPSW",
        "outputId": "55f51287-48fe-4af9-aa93-e55ca96a2320"
      },
      "source": [
        "sum( usr_history )"
      ],
      "execution_count": 149,
      "outputs": [
        {
          "output_type": "execute_result",
          "data": {
            "text/plain": [
              "1"
            ]
          },
          "metadata": {
            "tags": []
          },
          "execution_count": 149
        }
      ]
    },
    {
      "cell_type": "code",
      "metadata": {
        "colab": {
          "base_uri": "https://localhost:8080/"
        },
        "id": "jYg4cTxOE8Nf",
        "outputId": "3593a8b2-e873-4227-8b17-3313bbfa4af9"
      },
      "source": [
        "len( usr_history )"
      ],
      "execution_count": 150,
      "outputs": [
        {
          "output_type": "execute_result",
          "data": {
            "text/plain": [
              "2"
            ]
          },
          "metadata": {
            "tags": []
          },
          "execution_count": 150
        }
      ]
    },
    {
      "cell_type": "code",
      "metadata": {
        "colab": {
          "base_uri": "https://localhost:8080/"
        },
        "id": "ibtkNvsTFJrV",
        "outputId": "a87690cd-5ebd-4752-fc5d-6fd707f147ac"
      },
      "source": [
        "prob = sum( usr_history ) / len( usr_history )\n",
        "prob"
      ],
      "execution_count": 151,
      "outputs": [
        {
          "output_type": "execute_result",
          "data": {
            "text/plain": [
              "0.5"
            ]
          },
          "metadata": {
            "tags": []
          },
          "execution_count": 151
        }
      ]
    },
    {
      "cell_type": "code",
      "metadata": {
        "colab": {
          "base_uri": "https://localhost:8080/"
        },
        "id": "gx4jeA6HFZMH",
        "outputId": "5584c43d-e427-4749-feb2-882e4099e33d"
      },
      "source": [
        "comp_choice = np.random.binomial(1, prob)\n",
        "comp_choice"
      ],
      "execution_count": 152,
      "outputs": [
        {
          "output_type": "execute_result",
          "data": {
            "text/plain": [
              "1"
            ]
          },
          "metadata": {
            "tags": []
          },
          "execution_count": 152
        }
      ]
    },
    {
      "cell_type": "code",
      "metadata": {
        "colab": {
          "base_uri": "https://localhost:8080/",
          "height": 113,
          "referenced_widgets": [
            "975b7e8ba1af4c658a7258af7f55298a",
            "50efde94594e4e77a7ce00371a5e7669",
            "3e79ec5500cf4ae18c58382df108d1c5",
            "a58120975e074e90a6e7703b9f0a42f0",
            "d0aaaae905d44d9598cd814907908160",
            "e969c3e7a0384bdd810b4c084ff45781",
            "18e6ec6d84724b2184196fc3a921edb2",
            "169bd251cac948cb9b92d6be982af32e",
            "921545be0018454ca4bcfc832c4245e6",
            "0724a14e19bd4283baea026bd61fbe7a",
            "2e61826506954f2b9a95f96062bb82d0",
            "46140603969f4b40bc65c2a5854ad0b5",
            "fe52e7d7a0944df68985a2e61b408e41",
            "4ce491da07ff42cb89136f62f421d7b0",
            "8ac8825f5e02454d882499d7cac3302d",
            "a07a5dbedba24e2bb287772a1a9b1dbb",
            "d571542b39b64f15b23e696a07d761dd",
            "bc51ee0df9fb4b4db5028d2287b82435",
            "2c9b3b431e6641968b4d8666bd38b6c9",
            "e23d5797b17c43c9931aa63218b8c847",
            "41750814d55d482aa75220a22a38a3a2",
            "961cfa9d0df24f83a271201d96346160",
            "6e6abfa3c8d3421892bd37a27da37281"
          ]
        },
        "id": "-VnJYIvlSjug",
        "outputId": "a800b745-4827-489d-b7de-dbba3b1918df"
      },
      "source": [
        "display( game_box )"
      ],
      "execution_count": 153,
      "outputs": [
        {
          "output_type": "display_data",
          "data": {
            "application/vnd.jupyter.widget-view+json": {
              "model_id": "975b7e8ba1af4c658a7258af7f55298a",
              "version_minor": 0,
              "version_major": 2
            },
            "text/plain": [
              "VBox(children=(HBox(children=(VBox(children=(IntProgress(value=0, bar_style='success', description='You:', max…"
            ]
          },
          "metadata": {
            "tags": []
          }
        }
      ]
    }
  ]
}